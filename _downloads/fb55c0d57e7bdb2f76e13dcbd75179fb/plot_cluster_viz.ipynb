{
  "cells": [
    {
      "cell_type": "code",
      "execution_count": null,
      "metadata": {
        "collapsed": false
      },
      "outputs": [],
      "source": [
        "%matplotlib inline"
      ]
    },
    {
      "cell_type": "markdown",
      "metadata": {},
      "source": [
        "\n# Visualize results of cluster-based tests\n\nThis example demonstrates the basic functionality of\n:class:`borsar.cluster.Clusters` to visualize cluster-level effects.\n\n"
      ]
    },
    {
      "cell_type": "code",
      "execution_count": null,
      "metadata": {
        "collapsed": false
      },
      "outputs": [],
      "source": [
        "# Author: Miko\u0142aj Magnuski <mmagnuski@swps.edu.pl>\n# License: BSD (3-clause)"
      ]
    },
    {
      "cell_type": "markdown",
      "metadata": {},
      "source": [
        "We'll first download borsar example data.\n\n"
      ]
    },
    {
      "cell_type": "code",
      "execution_count": null,
      "metadata": {
        "collapsed": false
      },
      "outputs": [],
      "source": [
        "from borsar.utils import download_test_data\ndownload_test_data()"
      ]
    },
    {
      "cell_type": "markdown",
      "metadata": {},
      "source": [
        "We are going to read the clusters object from a ``.hdf5`` file.\nThe file we are trying to read represents results in channel by frequency\nspace so we will need to additionally attach an mne info during reading.\nLet's first create the info object:\n\n"
      ]
    },
    {
      "cell_type": "code",
      "execution_count": null,
      "metadata": {
        "collapsed": false
      },
      "outputs": [],
      "source": [
        "import mne\nmntg = mne.channels.read_montage('easycap-M1')\ninfo = mne.create_info(mntg.ch_names, sfreq=250., ch_types='eeg', montage=mntg)"
      ]
    },
    {
      "cell_type": "markdown",
      "metadata": {},
      "source": [
        "Now we read the file.\n\n"
      ]
    },
    {
      "cell_type": "code",
      "execution_count": null,
      "metadata": {
        "collapsed": false
      },
      "outputs": [],
      "source": [
        "import os.path as op\nfrom borsar.utils import _get_test_data_dir\nfrom borsar.cluster import read_cluster\n\ndata_dir = _get_test_data_dir()\nfname = op.join(data_dir, 'chan_alpha_range.hdf5')\n\nclst = read_cluster(fname, info=info)"
      ]
    },
    {
      "cell_type": "markdown",
      "metadata": {},
      "source": [
        "First let's plot the topography of the second cluster's effect in frequency\nrange from 8 to 8.5 Hz:\n\n"
      ]
    },
    {
      "cell_type": "code",
      "execution_count": null,
      "metadata": {
        "collapsed": false
      },
      "outputs": [],
      "source": [
        "topo = clst.plot(cluster_idx=1, freq=[8, 8.5])"
      ]
    },
    {
      "cell_type": "markdown",
      "metadata": {},
      "source": [
        "We can also see how specific frequencies contribute to each cluster by the\nnumber of channels participating in each cluster at given frequency:\n\n"
      ]
    },
    {
      "cell_type": "code",
      "execution_count": null,
      "metadata": {
        "collapsed": false
      },
      "outputs": [],
      "source": [
        "clst.plot_contribution('freq')"
      ]
    }
  ],
  "metadata": {
    "kernelspec": {
      "display_name": "Python 3",
      "language": "python",
      "name": "python3"
    },
    "language_info": {
      "codemirror_mode": {
        "name": "ipython",
        "version": 3
      },
      "file_extension": ".py",
      "mimetype": "text/x-python",
      "name": "python",
      "nbconvert_exporter": "python",
      "pygments_lexer": "ipython3",
      "version": "3.6.6"
    }
  },
  "nbformat": 4,
  "nbformat_minor": 0
}